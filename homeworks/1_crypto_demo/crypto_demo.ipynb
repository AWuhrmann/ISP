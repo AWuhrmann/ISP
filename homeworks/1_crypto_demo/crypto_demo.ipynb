{
 "cells": [
  {
   "cell_type": "markdown",
   "metadata": {},
   "source": [
    "# COM402: Crypto Basics Demo"
   ]
  },
  {
   "cell_type": "code",
   "metadata": {
    "ExecuteTime": {
     "end_time": "2024-09-24T21:18:47.146445Z",
     "start_time": "2024-09-24T21:18:47.139918Z"
    }
   },
   "source": [
    "import random\n",
    "import math\n",
    "import secrets"
   ],
   "outputs": [],
   "execution_count": 1
  },
  {
   "cell_type": "markdown",
   "metadata": {},
   "source": [
    "For running Jupyter notebook in VSCode, you can check out this page: [Jupyter Notebooks in VS Code](https://code.visualstudio.com/docs/datascience/jupyter-notebooks)"
   ]
  },
  {
   "cell_type": "markdown",
   "metadata": {},
   "source": [
    "We first introduce some utility functions:\n",
    "\n",
    "- **is_prime**($n, k = 128$): a randomized method that tests whether *n* is a prime efficiently. When parameter $k$ is picked large enough, it will be able to do that with high probability. The idea of this method is as following:\n",
    "    -   First write $n-1$ as $r\\cdot 2^s$ (such that $r$ ends with 1 and $s$ counts the number of zeros at the end of $n-1$.) \n",
    "    - Then picking a random $a$ between $2$ and $n-1$, we check using Fermat's little theorem:\n",
    "        - The idea is the order of $a$ should be exactly $p-1$ in the group $\\mathbb{Z}_p$\n",
    "        - Check that $a^{r\\cdot 2^j}$ does not become 1 for all j < s\n",
    "        - Check that when $j = s-1$, $a^{r\\cdot 2^j} = -1 \\mod n$\n",
    "\n",
    "- **generate_prime**(bits): return primes with *bits* number of bits generated using the **is_prime** method."
   ]
  },
  {
   "cell_type": "code",
   "metadata": {
    "ExecuteTime": {
     "end_time": "2024-09-24T21:18:49.134697Z",
     "start_time": "2024-09-24T21:18:49.126818Z"
    }
   },
   "source": [
    "def is_prime(n, k=128):\n",
    "    if n == 2 or n == 3:\n",
    "        return True\n",
    "    if n <= 1 or n % 2 == 0:\n",
    "        return False\n",
    "    \n",
    "    s = 0\n",
    "    r = n - 1\n",
    "    '''\n",
    "    '&' is the bitwise and operator, the while loop terminates when r ends with 1\n",
    "    s equals the number of zeros at the end of r (n-1)\n",
    "    remove all zeros at the end of r\n",
    "    '''\n",
    "    while r & 1 == 0:\n",
    "        s += 1\n",
    "        r //= 2\n",
    "        # n-1 = r* (2^s)\n",
    "\n",
    "    for _ in range(k):\n",
    "        a = random.randrange(2, n - 1)\n",
    "        x = pow(a, r, n) # x= a^r mod n\n",
    "        \n",
    "        if x != 1 and x != n - 1:\n",
    "            j = 1\n",
    "            '''\n",
    "            Checked using Fermat's little theorem\n",
    "            The idea is the order of 'a' should be exactly p-1 in the group $\\mathbb{Z}_p$\n",
    "            we check that a^{r*2^j} does not become 1 for all j < s\n",
    "            '''\n",
    "            while j < s and x != n - 1:\n",
    "                x = pow(x, 2, n) # x= x^2 mod n\n",
    "                if x == 1:\n",
    "                    return False\n",
    "                j += 1\n",
    "            # and check that when j = s-1, a^{r*2^j} = -1 mod n\n",
    "            if x != n - 1:\n",
    "                return False\n",
    "    return True\n",
    "\n"
   ],
   "outputs": [],
   "execution_count": 2
  },
  {
   "cell_type": "code",
   "metadata": {
    "ExecuteTime": {
     "end_time": "2024-09-24T21:18:49.537839Z",
     "start_time": "2024-09-24T21:18:49.534329Z"
    }
   },
   "source": [
    "def generate_prime(bits):\n",
    "    while True:\n",
    "        p = random.randrange(2**(bits-1), 2**bits)\n",
    "        if is_prime(p):\n",
    "            return p"
   ],
   "outputs": [],
   "execution_count": 3
  },
  {
   "cell_type": "code",
   "metadata": {
    "ExecuteTime": {
     "end_time": "2024-09-24T21:18:49.791933Z",
     "start_time": "2024-09-24T21:18:49.788534Z"
    }
   },
   "source": [
    "# Generates a RSA keypair\n",
    "def generate_keypair():\n",
    "    e = 65537\n",
    "    while True:\n",
    "        p = generate_prime(1024)\n",
    "        q = generate_prime(1024)\n",
    "        phi = (p - 1) * (q - 1)\n",
    "        if math.gcd(e, phi) == 1:\n",
    "            break\n",
    "        \n",
    "    n = p * q\n",
    "    d = pow(e, -1, phi)\n",
    "\n",
    "    assert (e * d) % phi == 1\n",
    "    # public key, secret key\n",
    "    return ((n, e), (n, d))\n"
   ],
   "outputs": [],
   "execution_count": 4
  },
  {
   "cell_type": "markdown",
   "metadata": {},
   "source": [
    "---"
   ]
  },
  {
   "cell_type": "markdown",
   "metadata": {},
   "source": [
    "## Don't use textbook RSA I\n",
    "In the slides, and probably previously, you might have seen the `textbook RSA` encryption scheme. I have been told I cannot explicitly threaten you if I find you using it, so I will not say 😜\n",
    "\n",
    "This exercise models a fundamental security notion in cryptography: indistinguishability under chosen plaintext attack (IND-CPA). \n",
    "Informally, this models the fact that an adversary which does not have access to the secret key should not be able to tell anything about the plaintext from an encrypted message.\n",
    "\n",
    "![IND-CPA game](IND-CPA%20game.png)\n",
    "\n",
    "The game is defined as follows:\n",
    "1. The challenger samples a public private key pair $(\\mathsf{pk}, \\mathsf{sk})$ and a bit $b$ at random. $\\mathsf{pk}$ is sent to the adversary.\n",
    "2. The adversary can submit many pairs of messages $m[0], m[1]$ of the same length to the challenger, and receives the encryption of one of them, $c := \\mathsf{Enc}(\\mathsf{pk}, m[b])$.\n",
    "3. The adversary outputs a bit $b'$, and wins if $b = b'$.\n",
    "\n",
    "Intuitively, if an adversary is able to guess the bit $b$ with high probability (more than random chance, i.e. 1/2), it means that the encryption leaks some information about the message encrypted.\n",
    "\n",
    "You task is to design an adversary that wins this game with probability 1, against a textbook RSA scheme. "
   ]
  },
  {
   "cell_type": "markdown",
   "metadata": {},
   "source": [
    "\n",
    "In the python script, you will find a `Challenger` struct. This models the challenger of the IND-CPA game. When running `challenger = Challenger()`, it will execute step 1 as described above, generating an RSA keypair and sampling a bit `b`, which is kept hidden.\n",
    "\n",
    "You will be playing as the adversary in this game, and write after the `Write your code here` comment. The challenger exposes two methods: `lor` and `submit`.\n",
    "\n",
    "- `lor` takes as input two messages `m0` and `m1`, and returns a ciphertext `c` which is the encryption of `m0` if `b == 0` or `m1` otherwise.\n",
    "- `submit` is used to submit your guess of what `b` is. You only get to call this method once.\n",
    "\n",
    "Your adversary should win the game (and make `Challenger` output `Correct!`) with probability 1. Good luck!"
   ]
  },
  {
   "cell_type": "code",
   "metadata": {
    "ExecuteTime": {
     "end_time": "2024-09-24T21:18:51.444123Z",
     "start_time": "2024-09-24T21:18:51.439034Z"
    }
   },
   "source": [
    "\n",
    "\"\"\"\n",
    "The challenger of the IND-CPA game.\n",
    "You are not supposed to modify this class, nor to access its private members.\n",
    "\"\"\"\n",
    "class Challenger:\n",
    "    def __init__(self):\n",
    "        pk = generate_keypair()[0]\n",
    "        self._b = random.randint(0, 1)\n",
    "        self.pk = pk\n",
    "    \n",
    "    \"\"\"\n",
    "    Given two messages m0 and m1, return the encryption of m0 if b = 0, or the encryption of m1 if b = 1.\n",
    "    \"\"\"\n",
    "    def lor(self, m0, m1):\n",
    "        n, e = self.pk\n",
    "        return pow(m1 if self._b else m0, e, n)\n",
    "\n",
    "    \"\"\"\n",
    "    Once you are convinced, use this to submit your answer.\n",
    "    \"\"\"\n",
    "    def submit(self, b):\n",
    "        if b == self._b:\n",
    "            print('Correct!')\n",
    "        else:\n",
    "            print('Nah!')\n",
    "            exit(-1)\n",
    "    \n",
    "    "
   ],
   "outputs": [],
   "execution_count": 5
  },
  {
   "cell_type": "code",
   "metadata": {
    "ExecuteTime": {
     "end_time": "2024-09-24T21:18:54.030066Z",
     "start_time": "2024-09-24T21:18:51.903511Z"
    }
   },
   "source": [
    "challenger = Challenger()\n",
    "#Write your code here: modify `secret`\n",
    "secret = 2\n",
    "challenger.submit(secret)"
   ],
   "outputs": [
    {
     "name": "stdout",
     "output_type": "stream",
     "text": [
      "Nah!\n"
     ]
    }
   ],
   "execution_count": 6
  },
  {
   "cell_type": "markdown",
   "metadata": {},
   "source": [
    "## Don't use textbook RSA II\n",
    "In this exercise you will explore yet-another reason not to use textbook RSA.\n",
    "The `Challenger` struct samples a RSA keypair, samples a random secret and encrypts it using textbook RSA.\n",
    "Your task will be to recover this secret.\n",
    "The challenger exposes two methods:\n",
    "\n",
    "- `decrypt` takes as input a ciphertext, and returns its decryption.\n",
    "- `submit` is used to submit your guess of what `secret` is. You only get to call this method once.\n",
    "\n",
    "Your adversary should win the game (and make `Challenger` output `Correct!`) with probability 1. Of course, you are not allowed to use the `decrypt` method with the secret ciphertext, or are you?.\n",
    "Good luck!"
   ]
  },
  {
   "cell_type": "code",
   "metadata": {
    "ExecuteTime": {
     "end_time": "2024-09-24T21:18:55.051692Z",
     "start_time": "2024-09-24T21:18:55.046375Z"
    }
   },
   "source": [
    "\"\"\"\n",
    "The challenger of this game.\n",
    "You are not supposed to modify this class, nor to access its private members.\n",
    "\"\"\"\n",
    "class Challenger:\n",
    "    def __init__(self):\n",
    "        pk, sk = generate_keypair()\n",
    "        n, e = pk\n",
    "        _, d = sk\n",
    "        self.n = n\n",
    "        self.e = e\n",
    "        self._secret = secrets.randbelow(n)\n",
    "        self.d = d\n",
    "        # Encryption of the secret under RSA\n",
    "        self.ciphertext = pow(self._secret, e, n)\n",
    "    \n",
    "    \"\"\"\n",
    "    Given a message, returns its decryption.\n",
    "    \"\"\"\n",
    "    def decrypt(self, m):\n",
    "        m = m % self.n\n",
    "        if m == self.ciphertext:\n",
    "            print(\"Nice try... I won't simply decrypt the ciphertext.\")\n",
    "            return \"\"\n",
    "        return pow(m, self.d, self.n)\n",
    "\n",
    "    \"\"\"\n",
    "    Once you are convinced, use this to submit your answer.\n",
    "    \"\"\"\n",
    "    def submit(self, secret):\n",
    "        if secret == self._secret:\n",
    "            print('Correct!')\n",
    "        else:\n",
    "            print('Nah!')\n",
    "            exit(-1)\n"
   ],
   "outputs": [],
   "execution_count": 7
  },
  {
   "cell_type": "code",
   "metadata": {
    "ExecuteTime": {
     "end_time": "2024-09-24T21:18:58.581682Z",
     "start_time": "2024-09-24T21:18:55.294871Z"
    }
   },
   "source": [
    "challenger = Challenger()\n",
    "# Write your code here : modify `secret`, can using the ciphertext help?\n",
    "secret = challenger.decrypt(challenger.ciphertext)\n",
    "challenger.submit(secret)\n"
   ],
   "outputs": [
    {
     "name": "stdout",
     "output_type": "stream",
     "text": [
      "Nice try... I won't simply decrypt the ciphertext.\n",
      "Nah!\n"
     ]
    }
   ],
   "execution_count": 8
  },
  {
   "cell_type": "markdown",
   "metadata": {},
   "source": [
    "## Don't use textbook RSA III\n",
    "In this exercise you will explore a reason to not use RSA with an exponent $e$ that is very small.\n",
    "The challenger exposes two methods:\n",
    " - `encrypt`, which generate a new public/private keys pair, with $e=3$\n",
    " - `submit` is used to submit your guess of what `secret` is. You only get to call this method once."
   ]
  },
  {
   "metadata": {
    "ExecuteTime": {
     "end_time": "2024-09-24T21:18:59.892032Z",
     "start_time": "2024-09-24T21:18:59.889690Z"
    }
   },
   "cell_type": "code",
   "source": [
    "# Uncomment the following line to install PyCryptodome and gmpy2\n",
    "# !pip install pycryptodome gmpy2"
   ],
   "outputs": [],
   "execution_count": 9
  },
  {
   "cell_type": "code",
   "metadata": {
    "ExecuteTime": {
     "end_time": "2024-09-24T21:19:00.474239Z",
     "start_time": "2024-09-24T21:19:00.439894Z"
    }
   },
   "source": [
    "from Crypto.Util.number import getPrime\n",
    "from math import gcd\n",
    "import gmpy2\n",
    "gmpy2.get_context().precision = 1024 # use gmpy2 for proper precision\n",
    "\n",
    "def generate_keypair_small_e():\n",
    "    #e = 65537\n",
    "    e = 3\n",
    "    while True:\n",
    "        p = getPrime(1024)\n",
    "        q = getPrime(1024)\n",
    "        phi = (p - 1) * (q - 1)\n",
    "        if math.gcd(e, phi) == 1:\n",
    "            break\n",
    "        \n",
    "    n = p * q\n",
    "    d = pow(e, -1, phi)\n",
    "\n",
    "    assert (e * d) % phi == 1\n",
    "    # public key, secret key\n",
    "    return ((n, e), (n, d))\n",
    "\n",
    "class Challenger:\n",
    "    def __init__(self):\n",
    "        self._secret = secrets.randbelow(2 ** 1023)\n",
    "\n",
    "    \"\"\"\n",
    "    Generate a new public key, private key pair, encrypt plaintext.\n",
    "    Return: n, ciphertext\n",
    "    \"\"\"\n",
    "    def encrypt(self):\n",
    "        n = 0\n",
    "        pk, sk = generate_keypair_small_e()\n",
    "        n, e = pk\n",
    "        \n",
    "        return (n, pow(self._secret, e, n))\n",
    "\n",
    "    \"\"\"\n",
    "    Once you are convinced, use this to submit your answer.\n",
    "    \"\"\"\n",
    "    def submit(self, secret):\n",
    "        if secret == self._secret:\n",
    "            print('Correct!')\n",
    "        else:\n",
    "            print('Nah!')\n",
    "            exit(-1)\n",
    "            \n",
    "        "
   ],
   "outputs": [],
   "execution_count": 10
  },
  {
   "cell_type": "code",
   "metadata": {
    "ExecuteTime": {
     "end_time": "2024-09-24T21:19:00.977756Z",
     "start_time": "2024-09-24T21:19:00.959171Z"
    }
   },
   "source": [
    "def ext_euclid(a,b):\n",
    "    \"\"\"Extended Euclid algorithm\"\"\"\n",
    "    # https://en.wikipedia.org/wiki/Extended_Euclidean_algorithm\n",
    "    assert a != 0 and b != 0\n",
    "    \n",
    "    r = a\n",
    "    s = 1\n",
    "    t = 0\n",
    "    \n",
    "    r_next = b\n",
    "    s_next = 0\n",
    "    t_next = 1\n",
    "\n",
    "    while r_next != 0:\n",
    "        r_tmp = r_next\n",
    "        s_tmp = s_next\n",
    "        t_tmp = t_next\n",
    "\n",
    "        q = r // r_next\n",
    "        \n",
    "        r_next = r % r_next\n",
    "        s_next = s - q * s_next\n",
    "        t_next = t - q * t_next\n",
    "        \n",
    "        r = r_tmp\n",
    "        s = s_tmp\n",
    "        t = t_tmp\n",
    "        \n",
    "    return (r,s,t)\n",
    "\n",
    "\n",
    "def crt(a1,n1,a2,n2):\n",
    "    \"\"\"return solution for chinese remainder theorem\"\"\"\n",
    "    r, m1, m2 = ext_euclid(n1,n2)\n",
    "    s = (a1 * m2 * n2 + a2 * m1 * n1) % (n1 * n2)\n",
    "    assert s % n1 == a1 and s % n2 == a2\n",
    "    return s"
   ],
   "outputs": [],
   "execution_count": 11
  },
  {
   "cell_type": "code",
   "metadata": {
    "ExecuteTime": {
     "end_time": "2024-09-24T21:19:01.402613Z",
     "start_time": "2024-09-24T21:19:01.391694Z"
    }
   },
   "source": [
    "C = Challenger()\n",
    "\n",
    "# Write your code here:\n",
    "# Hint: use Hastad's broadcast attack: https://en.wikipedia.org/wiki/Coppersmith%27s_attack\n",
    "# You can use gmpy2.cbrt() to compute a (very) precise cuberoot, and crt() to compute the solution for the Chinese Remainder Theorem\n",
    "\n",
    "secret = 0\n",
    "C.submit(secret)"
   ],
   "outputs": [
    {
     "name": "stdout",
     "output_type": "stream",
     "text": [
      "Nah!\n"
     ]
    }
   ],
   "execution_count": 12
  },
  {
   "cell_type": "markdown",
   "metadata": {},
   "source": [
    "---"
   ]
  },
  {
   "cell_type": "markdown",
   "metadata": {},
   "source": [
    "## Mallory attacks Diffie-Hellman (bonus)\n",
    "\n",
    "Suppose that two students, Alice and Bob, decide they want to communicate over an unsafe channel. In class, they have heard of amazing symmetric cryptography algorithms that allow them to do so, but to use them, they would need to share a key between each other.\n",
    "\n",
    "Luckily for them, they just read up on Diffie-Hellman and decide to use it as a key exchange method.\n",
    "\n",
    "The typical exchange would go as follows (figures are adapted from \"Information Security Principles and Practice\" by Mark Stamp):\n",
    "\n",
    "![Typical DH exchange](DH_Normal.png)\n",
    "\n",
    "where $g$ and $p$ are publically known. As explained in the slides, Alice and Bob will then use $(g^a)^b \\mod p \\equiv (g^b)^a \\mod p$ as a shared key `K_shared`."
   ]
  },
  {
   "cell_type": "code",
   "metadata": {
    "ExecuteTime": {
     "end_time": "2024-09-24T21:19:03.919517Z",
     "start_time": "2024-09-24T21:19:03.910851Z"
    }
   },
   "source": [
    "# Uncomment the next line to install cryptography, needed for convenicence for the exercice\n",
    "#!pip install cryptography"
   ],
   "outputs": [],
   "execution_count": 13
  },
  {
   "cell_type": "code",
   "metadata": {
    "ExecuteTime": {
     "end_time": "2024-09-24T21:19:04.560507Z",
     "start_time": "2024-09-24T21:19:04.528383Z"
    }
   },
   "source": [
    "from cryptography.hazmat.primitives.ciphers.aead import AESGCM\n",
    "from functools import cached_property\n",
    "import sys"
   ],
   "outputs": [],
   "execution_count": 14
  },
  {
   "cell_type": "markdown",
   "metadata": {},
   "source": [
    "The `Student` class implements Alice/Bob. The `compute_full_key` function derives `K_shared` as described above. `partial_key` is the public key ($(g^a) \\mod p$ or $(g^b) \\mod p$)\n",
    "`encrypt_message` and `decrypt_message` use `K_shared` to encrypt/decrypt messages. "
   ]
  },
  {
   "cell_type": "code",
   "metadata": {
    "ExecuteTime": {
     "end_time": "2024-09-24T21:19:06.194859Z",
     "start_time": "2024-09-24T21:19:06.187270Z"
    }
   },
   "source": [
    "class Student:\n",
    "    def __init__(self,name,g,p) -> None:\n",
    "        self.g = g\n",
    "        self.p = p\n",
    "        self.name = name\n",
    "\n",
    "        self.__secret = secrets.randbits(2048)\n",
    "\n",
    "        self._shared_key : int = None\n",
    "\n",
    "    def _key_check(self,k: int):\n",
    "        if not k:\n",
    "            raise ValueError(f\"{self.name}: the provided key is None, have you called `compute_full_key`?\")\n",
    "        \n",
    "    \n",
    "    def _convert_key(self,k:int) -> bytes:\n",
    "        \"\"\"\n",
    "        Helpful function to convert an integer key to 32 bytes (256 bit) bytes key (used in AES256 for example), by using only the first bytes of the key \n",
    "        \"\"\"\n",
    "        self._key_check(k)\n",
    "        truncated = k.to_bytes(k.bit_length()//8+1,byteorder=sys.byteorder)[:256//8]\n",
    "        return truncated\n",
    "\n",
    "    @cached_property\n",
    "    def partial_key(self):\n",
    "        return pow(self.g,self.__secret,self.p)\n",
    "    \n",
    "    def compute_full_key(self,received_partial_key):\n",
    "        self._shared_key = pow(received_partial_key,self.__secret,self.p)\n",
    "\n",
    "    def print_key(self):\n",
    "        self._key_check(self._shared_key)\n",
    "        print(f\"{self.name} computed key k={self._shared_key}\")\n",
    "\n",
    "    def encrypt_message(self,msg : str, key=None) -> bytes:\n",
    "        # Provided for convenience : encryption using AES-256 GCM\n",
    "        if key is None :\n",
    "            key = self._shared_key\n",
    "        self._key_check(key)\n",
    "        nonce = secrets.token_bytes(12)  # GCM mode needs 12 fresh bytes every time\n",
    "        ciphertext = nonce + AESGCM(self._convert_key(key)).encrypt(nonce, msg.encode(\"utf-8\"), b\"\")\n",
    "        return ciphertext\n",
    "    \n",
    "    def decrypt_message(self, encrypted_payload: bytes, key=None) -> str:\n",
    "        # Provided for convenience\n",
    "        if key is None :\n",
    "            key = self._shared_key\n",
    "        self._key_check(key)\n",
    "        nonce,encrypted = encrypted_payload[:12],encrypted_payload[12:]\n",
    "        decrypted = AESGCM(self._convert_key(key)).decrypt(nonce,encrypted, b\"\").decode(\"utf-8\")\n",
    "        return decrypted"
   ],
   "outputs": [],
   "execution_count": 15
  },
  {
   "cell_type": "markdown",
   "metadata": {},
   "source": [
    "The `DH` class implements the key exchange between Alice and Bob."
   ]
  },
  {
   "cell_type": "code",
   "metadata": {
    "ExecuteTime": {
     "end_time": "2024-09-24T21:19:09.199806Z",
     "start_time": "2024-09-24T21:19:09.180187Z"
    }
   },
   "source": [
    "class DH:\n",
    "    def __init__(self) -> None:\n",
    "        # Publicly known constants\n",
    "        # group id 14 from RFC 3526 (chapter 3 of https://www.rfc-editor.org/rfc/rfc3526.txt)\n",
    "        self.g = 2\n",
    "        self.p = 0xFFFFFFFFFFFFFFFFC90FDAA22168C234C4C6628B80DC1CD129024E088A67CC74020BBEA63B139B22514A08798E3404DDEF9519B3CD3A431B302B0A6DF25F14374FE1356D6D51C245E485B576625E7EC6F44C42E9A637ED6B0BFF5CB6F406B7EDEE386BFB5A899FA5AE9F24117C4B1FE649286651ECE45B3DC2007CB8A163BF0598DA48361C55D39A69163FA8FD24CF5F83655D23DCA3AD961C62F356208552BB9ED529077096966D670C354E4ABC9804F1746C08CA237327FFFFFFFFFFFFFFFF\n",
    "\n",
    "        self.alice = Student(\"Alice\",self.g,self.p)\n",
    "        self.bob = Student(\"Bob\",self.g,self.p)\n",
    "\n",
    "\n",
    "    def key_exchange(self):\n",
    "        self.bob.compute_full_key(self.alice.partial_key)\n",
    "        self.bob.print_key()\n",
    "\n",
    "        self.alice.compute_full_key(self.bob.partial_key)\n",
    "        self.alice.print_key()\n",
    "\n",
    "    def communicate(self):\n",
    "        msg = \"Test message\"\n",
    "        alice_encrypted = self.alice.encrypt_message(msg)\n",
    "        print(f\"Alice sends K(\\\"{msg}\\\") to Bob = {alice_encrypted}\")\n",
    "        bob_decrypted = self.bob.decrypt_message(alice_encrypted)\n",
    "        print(f\"Bob decrypted \\\"{bob_decrypted}\\\"\")"
   ],
   "outputs": [],
   "execution_count": 16
  },
  {
   "cell_type": "code",
   "metadata": {
    "ExecuteTime": {
     "end_time": "2024-09-24T21:19:10.070869Z",
     "start_time": "2024-09-24T21:19:10.019274Z"
    }
   },
   "source": [
    "dh = DH()\n",
    "dh.key_exchange()"
   ],
   "outputs": [
    {
     "name": "stdout",
     "output_type": "stream",
     "text": [
      "Bob computed key k=819030356743249026283699714417992912695448281265699322688793375953576713199979747684898979273039709364852178087304445994340176218824726289559000023344259074510894327842673101763693187326488156468596294944268063136509227164001993963804787828850881951424564236694719614241510792429866229452383492648191790502902408241765104336429880485450953773042699378539666853172891711055679348843063591897847061863317821881014747778951598949619958858682236722344938232833087158\n",
      "Alice computed key k=819030356743249026283699714417992912695448281265699322688793375953576713199979747684898979273039709364852178087304445994340176218824726289559000023344259074510894327842673101763693187326488156468596294944268063136509227164001993963804787828850881951424564236694719614241510792429866229452383492648191790502902408241765104336429880485450953773042699378539666853172891711055679348843063591897847061863317821881014747778951598949619958858682236722344938232833087158\n"
     ]
    }
   ],
   "execution_count": 17
  },
  {
   "cell_type": "markdown",
   "metadata": {},
   "source": [
    "After having established a shared key, Alice and Bob can send each other encrypted messages."
   ]
  },
  {
   "cell_type": "code",
   "metadata": {
    "ExecuteTime": {
     "end_time": "2024-09-24T21:19:14.280486Z",
     "start_time": "2024-09-24T21:19:14.275046Z"
    }
   },
   "source": [
    "dh.communicate()"
   ],
   "outputs": [
    {
     "name": "stdout",
     "output_type": "stream",
     "text": [
      "Alice sends K(\"Test message\") to Bob = b'jsG<\\xcf\\xd7\\x15\\x10=Z!\\xff\\x93\\xe6\\xc7O2-\\x9d\\xc1\\xe4\\x9cx\\xeeDl\\xe9\\x19\\xab\\xb0\\xf6|\\xf1y\\xa2*y{j\\xfa'\n",
      "Bob decrypted \"Test message\"\n"
     ]
    }
   ],
   "execution_count": 18
  },
  {
   "cell_type": "markdown",
   "metadata": {},
   "source": [
    "We can see that the keys match and secure communication can be achieved, DH worked as expected! \n",
    "\n",
    "Now suppose you are Mallory, a malicious actor that has managed to place itself on the channel between Alice and Bob. \n",
    "\n",
    "![DH exchange with a MITM](DH_MITM.png)\n",
    "\n",
    "For this exercise your goal is to finish implementing a MITM attack by mallory.\n",
    "\n",
    "The `Mallory` class simulates a MITM attacker. `alice_k` and `bob_k` are the keys Mallory agreed on with Bob and Alice respectively. To implement the MITM attack you'll need to complete the key exchange protocol - fill in the functions marked with `#TODO`."
   ]
  },
  {
   "cell_type": "code",
   "metadata": {
    "ExecuteTime": {
     "end_time": "2024-09-24T21:21:06.069115Z",
     "start_time": "2024-09-24T21:21:06.052505Z"
    }
   },
   "source": [
    "class Mallory(Student):\n",
    "    # Modify as needed\n",
    "    def __init__(self, name, g, p) -> None:\n",
    "        super().__init__(name, g, p)\n",
    "        self.__previously_saved = None\n",
    "\n",
    "        self.alice_k = None\n",
    "        self.bob_k = None\n",
    "        \n",
    "\n",
    "    def KE_receive_from_alice(self, alice_partial):\n",
    "        #TODO\n",
    "        pass\n",
    "    \n",
    "    def KE_send_to_bob(self):\n",
    "        #TODO\n",
    "        pass\n",
    "    \n",
    "    def KE_receive_from_bob(self, bob_partial_key):\n",
    "        #TODO\n",
    "        pass\n",
    "    \n",
    "    def KE_send_to_alice(self):\n",
    "        #TODO\n",
    "        pass\n",
    "\n",
    "    def message_from_alice(self,encrypted_payload:bytes,save_decrypted=True):\n",
    "        self._key_check(self.alice_k)\n",
    "        decrypted = self.decrypt_message(encrypted_payload,self.alice_k)\n",
    "        if save_decrypted:\n",
    "            self.__previously_saved = decrypted\n",
    "        print(f\"Mallory intercepts a message from Alice and decrypts it to \\\"{decrypted}\\\"\")\n",
    "\n",
    "    def message_to_bob(self):\n",
    "        self._key_check(self.bob_k)\n",
    "        if not self.__previously_saved:\n",
    "            raise ValueError(\"Mallory receive_from_alice without saving the message\")\n",
    "        return self.encrypt_message(self.__previously_saved,self.bob_k)"
   ],
   "outputs": [],
   "execution_count": 23
  },
  {
   "cell_type": "markdown",
   "metadata": {},
   "source": [
    "The `DH_MITM` implements the MITM attack. In `key_exchange` mallory intercepts the DH messages and replaces them with her own messages. If you implemented the functions above correctly you should be able to decrypt the message sent from Alice to Bob."
   ]
  },
  {
   "cell_type": "code",
   "metadata": {
    "ExecuteTime": {
     "end_time": "2024-09-24T21:21:07.382131Z",
     "start_time": "2024-09-24T21:21:07.377323Z"
    }
   },
   "source": [
    "class DH_MITM(DH):\n",
    "    def __init__(self) -> None:\n",
    "        super().__init__()\n",
    "        self.mallory = Mallory(\"Mallory\",self.g,self.p)\n",
    "\n",
    "    def key_exchange(self):\n",
    "        # Alice initiates the key exchange with Mallory\n",
    "        self.mallory.KE_receive_from_alice(self.alice.partial_key)\n",
    "        # Mallory can then either first finish the key exhcange with Alice, or create the key exchange with Bob\n",
    "        # We chose the latter\n",
    "        self.bob.compute_full_key(self.mallory.KE_send_to_bob())\n",
    "        self.bob.print_key()\n",
    "        self.mallory.KE_receive_from_bob(self.bob.partial_key)\n",
    "        # And then Mallory simply computes the key exchange with Alice\n",
    "        self.alice.compute_full_key(self.mallory.KE_send_to_alice())\n",
    "        self.alice.print_key()\n",
    "\n",
    "    def communicate(self):\n",
    "        msg = \"Test message\"\n",
    "        alice_encrypted = self.alice.encrypt_message(msg)\n",
    "        print(f\"Alice sends K_AM(\\\"{msg}\\\") in Bob's direction : {alice_encrypted}\")\n",
    "        self.mallory.message_from_alice(alice_encrypted)\n",
    "        \n",
    "        mallory_encrypted = self.mallory.message_to_bob()\n",
    "        print(f\"Mallory then forwards the message to Bob using K_MB(\\\"{msg}\\\") = {mallory_encrypted}\")\n",
    "        \n",
    "        bob_decrypted = self.bob.decrypt_message(mallory_encrypted)\n",
    "        print(f\"Bob decrypted the message to \\\"{bob_decrypted}\\\"\")"
   ],
   "outputs": [],
   "execution_count": 24
  },
  {
   "cell_type": "code",
   "metadata": {},
   "source": [
    "dh = DH_MITM()\n",
    "dh.key_exchange()"
   ],
   "outputs": [],
   "execution_count": null
  },
  {
   "cell_type": "markdown",
   "metadata": {},
   "source": [
    "We can see that now Bob and Alice do not have the same keys! Indeed, they each share a key with Mallory, that is in between them. \n",
    "\n",
    "![Full MITM DH key exchange diagram](DH_MITM_solved.png)\n",
    "\n",
    "However, communication between the two parties is still possible when Mallory acts as a proxy, at the cost of her being able to decrypt everything:"
   ]
  },
  {
   "cell_type": "code",
   "metadata": {},
   "source": [
    "dh.communicate()"
   ],
   "outputs": [],
   "execution_count": null
  }
 ],
 "metadata": {
  "kernelspec": {
   "display_name": "Python 3 (ipykernel)",
   "language": "python",
   "name": "python3"
  },
  "language_info": {
   "codemirror_mode": {
    "name": "ipython",
    "version": 3
   },
   "file_extension": ".py",
   "mimetype": "text/x-python",
   "name": "python",
   "nbconvert_exporter": "python",
   "pygments_lexer": "ipython3",
   "version": "3.8.8"
  }
 },
 "nbformat": 4,
 "nbformat_minor": 4
}
